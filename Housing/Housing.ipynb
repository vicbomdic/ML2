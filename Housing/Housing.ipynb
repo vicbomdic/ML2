{
 "cells": [
  {
   "cell_type": "code",
   "execution_count": 8,
   "metadata": {},
   "outputs": [],
   "source": [
    "import os\n",
    "import tarfile\n",
    "import urllib"
   ]
  },
  {
   "cell_type": "code",
   "execution_count": 11,
   "metadata": {},
   "outputs": [],
   "source": [
    "DOWNLOAD_ROOT = 'https://raw.githubusercontent.com/ageron/handson-ml2/master/'\n",
    "HOUSING_PATH = os.path.join('datasets', 'housing')\n",
    "HOUSING_URL = DOWNLOAD_ROOT + 'datasets/housing/housing.tgz'\n",
    "\n",
    "def fetching_housing_data(housing_url = HOUSING_URL, housing_path = HOUSING_PATH):\n",
    "    os.makedirs(housing_path, exist_ok = True)\n",
    "    \n",
    "    tgz_path = os.path.join(housing_path, 'housing.tgz')\n",
    "    \n",
    "    # 使用urllib.request.urlretrieve下载housing_url指定的文件，并保存到tgz_path指定的路径\n",
    "    urllib.request.urlretrieve(housing_url, tgz_path)\n",
    "\n",
    "    # 使用tarfile.open打开tgz_path指定的.tar.gz文件\n",
    "    housing_tgz = tarfile.open(tgz_path)\n",
    "\n",
    "    # 使用housing_tgz.extractall()解压缩并提取文件到housing_path指定的路径\n",
    "    housing_tgz.extractall(path = housing_path)\n",
    "    housing_tgz.close()\n",
    "    \n",
    "fetching_housing_data()"
   ]
  },
  {
   "cell_type": "code",
   "execution_count": null,
   "metadata": {},
   "outputs": [],
   "source": []
  }
 ],
 "metadata": {
  "kernelspec": {
   "display_name": "Python 3",
   "language": "python",
   "name": "python3"
  },
  "language_info": {
   "codemirror_mode": {
    "name": "ipython",
    "version": 3
   },
   "file_extension": ".py",
   "mimetype": "text/x-python",
   "name": "python",
   "nbconvert_exporter": "python",
   "pygments_lexer": "ipython3",
   "version": "3.11.0"
  },
  "orig_nbformat": 4
 },
 "nbformat": 4,
 "nbformat_minor": 2
}
